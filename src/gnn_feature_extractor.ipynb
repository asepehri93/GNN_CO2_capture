{
  "nbformat": 4,
  "nbformat_minor": 0,
  "metadata": {
    "colab": {
      "provenance": [],
      "machine_shape": "hm"
    },
    "kernelspec": {
      "name": "python3",
      "display_name": "Python 3"
    },
    "language_info": {
      "name": "python"
    },
    "gpuClass": "standard"
  },
  "cells": [
    {
      "cell_type": "code",
      "source": [
        "import numpy as np\n",
        "import glob\n",
        "from pathlib import Path\n",
        "import pickle\n",
        "import gc\n",
        "import tensorflow as tf\n",
        "from keras.models import Model\n",
        "from ase.io.lammpsdata import read_lammps_data as rld\n",
        "from pymatgen.io.ase import AseAtomsAdaptor\n",
        "from megnet.utils.models import load_model\n",
        "\n",
        "def structures_generator():\n",
        "    files = glob.glob('processed/data.*.txt')\n",
        "    for file in files:\n",
        "        data = rld(file, style='charge')\n",
        "        structure = AseAtomsAdaptor.get_structure(data)\n",
        "        yield structure\n",
        "\n",
        "\n",
        "\n",
        "\n",
        "def get_features(models, energies):\n",
        "    with tf.device('/GPU:0'):\n",
        "        for mg_model in models:\n",
        "            model = load_model(mg_model)\n",
        "            model.layers.pop()\n",
        "            model2 = Model(model.input, model.layers[-2].output)\n",
        "            model.model = model2\n",
        "\n",
        "            features_list = []\n",
        "            structures_gen = structures_generator()\n",
        "            struct_count = 0\n",
        "            for structure, energy in zip(structures_gen, energies):\n",
        "                features = model.predict_structure(structure)\n",
        "                features_list.append(np.append(features, energy))\n",
        "                struct_count += 1\n",
        "                print(struct_count)\n",
        "                del structure\n",
        "                gc.collect()\n",
        "\n",
        "            features_array = np.vstack(features_list)\n",
        "            np.save('features/' + mg_model + '_data.npy', features_array)\n",
        "\n",
        "\n",
        "\n",
        "\n",
        "def main():\n",
        "    models = ['Eform_MP_2019', 'Efermi_MP_2019', 'Bandgap_MP_2018', 'logK_MP_2019', 'logG_MP_2019']\n",
        "    processed_dir = Path('processed')\n",
        "    features_dir = Path('features')\n",
        "\n",
        "    # Create 'features' directory if it doesn't exist\n",
        "    features_dir.mkdir(parents=True, exist_ok=True)\n",
        "\n",
        "    with open('processed_energies_list.pkl', 'rb') as f:\n",
        "        md = pickle.load(f)\n",
        "\n",
        "    get_features(models, md)\n",
        "\n",
        "if __name__ == \"__main__\":\n",
        "    main()"
      ],
      "metadata": {
        "id": "J4ccUv_Mkpco"
      },
      "execution_count": null,
      "outputs": []
    }
  ]
}