{
  "nbformat": 4,
  "nbformat_minor": 0,
  "metadata": {
    "colab": {
      "provenance": [],
      "machine_shape": "hm"
    },
    "kernelspec": {
      "name": "python3",
      "display_name": "Python 3"
    },
    "language_info": {
      "name": "python"
    },
    "gpuClass": "standard"
  },
  "cells": [
    {
      "cell_type": "code",
      "source": [
        "import numpy as np\n",
        "import glob\n",
        "import os\n",
        "import sys\n",
        "from pathlib import Path\n",
        "import pickle\n",
        "\n",
        "def process(file, d, energy=[]):\n",
        "    with open(file) as i:\n",
        "        state = \"header\"\n",
        "        natoms = 0\n",
        "        counter = 0\n",
        "        lines_processed = 0\n",
        "        files_processed = 0\n",
        "        o = None\n",
        "\n",
        "        for line in i:\n",
        "            lines_processed += 1\n",
        "            sys.stdout.write('\\rFiles processed: ' + str(files_processed))\n",
        "            sys.stdout.flush()\n",
        "\n",
        "            if state == \"header\":\n",
        "                natoms = int(line.strip())\n",
        "                o = open('processed/data.' + str(len(energy)) + '.txt', 'w')\n",
        "                o.write('# Automatic Generation\\n')\n",
        "                o.write(str(natoms) + ' atoms\\n')\n",
        "                o.write('5 types\\n\\n')\n",
        "                state = \"energy\"\n",
        "            elif state == \"energy\":\n",
        "                energy_val = float(line.strip().split()[1]) / natoms\n",
        "                energy.append(energy_val)\n",
        "                o.write('0 ' + str(float(line.strip().split()[2])) + ' xlo xhi\\n')\n",
        "                o.write('0 ' + str(float(line.strip().split()[3])) + ' ylo yhi\\n')\n",
        "                o.write('0 ' + str(float(line.strip().split()[4])) + ' zlo zhi\\n')\n",
        "                o.write('\\nAtoms\\n\\n')\n",
        "                state = \"atoms\"\n",
        "                counter = 0\n",
        "            elif state == \"atoms\":\n",
        "                l = line.strip().split()\n",
        "                o.write(str(counter + 1) + ' ' + str(d[l[0]]) + ' 0 ' + l[1] + ' ' + l[2] + ' ' + l[3] + '\\n')\n",
        "                counter += 1\n",
        "                if counter == natoms:\n",
        "                    files_processed += 1\n",
        "                    o.close()\n",
        "                    state = \"header\"\n",
        "\n",
        "    return energy\n",
        "\n",
        "def main():\n",
        "    d = {'C': 6,'H': 1,'Mg': 12,'N': 7,'Zn': 30,'O': 8}\n",
        "    raw_dir = Path('raw')\n",
        "    processed_dir = Path('processed')\n",
        "    md = []\n",
        "\n",
        "    # Create 'processed' directory if it doesn't exist\n",
        "    processed_dir.mkdir(parents=True, exist_ok=True)\n",
        "\n",
        "    # Iterate through every file in the 'raw' directory and process it\n",
        "    for file in raw_dir.iterdir():\n",
        "        if file.is_file():\n",
        "            # Process the file and save the output to the 'processed' directory\n",
        "            md = process(file, d, energy = md)\n",
        "\n",
        "    with open('processed_energies_list.pkl', 'wb') as f:\n",
        "        pickle.dump(md, f)\n",
        "\n",
        "if __name__ == \"__main__\":\n",
        "    main()"
      ],
      "metadata": {
        "id": "kVVEGsn0VqR6"
      },
      "execution_count": null,
      "outputs": []
    }
  ]
}